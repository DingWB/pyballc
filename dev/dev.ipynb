{
 "cells": [
  {
   "cell_type": "code",
   "execution_count": 1,
   "id": "71869ffb",
   "metadata": {
    "ExecuteTime": {
     "end_time": "2023-07-11T23:13:14.098282Z",
     "start_time": "2023-07-11T23:13:14.095946Z"
    }
   },
   "outputs": [],
   "source": [
    "import sys\n",
    "sys.path.append('/gale/netapp/home/wtian/local/pyballc/pyballc/')\n",
    "import glob\n"
   ]
  },
  {
   "cell_type": "code",
   "execution_count": 2,
   "id": "ebeb2533",
   "metadata": {
    "ExecuteTime": {
     "end_time": "2023-07-11T23:13:14.283546Z",
     "start_time": "2023-07-11T23:13:14.265934Z"
    }
   },
   "outputs": [],
   "source": [
    "import pyballcools\n",
    "import pysam"
   ]
  },
  {
   "cell_type": "code",
   "execution_count": 5,
   "id": "7ebc2831",
   "metadata": {
    "ExecuteTime": {
     "end_time": "2023-07-11T23:13:44.954391Z",
     "start_time": "2023-07-11T23:13:44.952849Z"
    }
   },
   "outputs": [],
   "source": [
    "ballc_file = '/gale/netapp/home/wtian/local/ballcools/test/out/HBA_200616_H1930001_CX50_M1C_1_P5-3-E10-A17.ballc'\n",
    "cmeta_file = '/gale/netapp/home/wtian/bican/projects/test/h1930001.cmeta.gz'"
   ]
  },
  {
   "cell_type": "code",
   "execution_count": 6,
   "id": "8174accd",
   "metadata": {
    "ExecuteTime": {
     "end_time": "2023-07-11T23:13:45.300893Z",
     "start_time": "2023-07-11T23:13:45.251730Z"
    }
   },
   "outputs": [
    {
     "data": {
      "text/plain": [
       "'chr1\\t10004\\t+\\tCCC'"
      ]
     },
     "execution_count": 6,
     "metadata": {},
     "output_type": "execute_result"
    }
   ],
   "source": [
    "next(pysam.TabixFile(cmeta_file).fetch(*region))"
   ]
  },
  {
   "cell_type": "code",
   "execution_count": 3,
   "id": "d4eb24ab",
   "metadata": {
    "ExecuteTime": {
     "end_time": "2023-07-11T23:13:32.005491Z",
     "start_time": "2023-07-11T23:13:32.003695Z"
    }
   },
   "outputs": [],
   "source": [
    "region = 'chr1', 0,20000\n",
    "# region = 'chr1', 62000, 70000\n",
    "# region = 'chr1', 0,10000\n",
    "region = 'chr1', 0, 80000\n"
   ]
  },
  {
   "cell_type": "code",
   "execution_count": 9,
   "id": "b96ee837",
   "metadata": {
    "ExecuteTime": {
     "end_time": "2023-07-11T22:58:04.013068Z",
     "start_time": "2023-07-11T22:58:04.008090Z"
    }
   },
   "outputs": [],
   "source": [
    "class BAllCFile:\n",
    "    def __init__(self, ballc_file, cmeta_file=None):\n",
    "        self.bci = pyballcools.BAllCIndex(ballc_file)\n",
    "        self.tbi = pysam.TabixFile(cmeta_file) if cmeta_file is not None else None\n",
    "    def _fetch_with_cmeta(self, chrom, start, end):\n",
    "        mciter = self.bci.QueryMcRecords_Iter(chrom, start, end)\n",
    "        if mciter.HasNext():\n",
    "            mciter.Next()\n",
    "        while mciter.HasNext():\n",
    "            rec = mciter.Next()\n",
    "            try:\n",
    "                cline = next(self.tbi.fetch(rec.chrom,rec.pos-1,rec.pos,))\n",
    "            except:\n",
    "                ##TODO\n",
    "                pass\n",
    "\n",
    "            *_, strand, context = cline.split()\n",
    "\n",
    "            yield(rec.chrom,rec.pos,strand, context, rec.mc,rec.cov, )\n",
    "    def _fetch(self, chrom, start, end):\n",
    "        mciter = self.bci.QueryMcRecords_Iter(chrom, start, end)\n",
    "        if mciter.HasNext():\n",
    "            mciter.Next()\n",
    "        while mciter.HasNext():\n",
    "            rec = mciter.Next()\n",
    "            yield(rec.chrom, rec.pos, rec.mc, rec.cov, )\n",
    "        \n",
    "    def fetch(self, chrom, start, end):\n",
    "        if self.tbi is None:\n",
    "            return self._fetch(chrom, start, end)\n",
    "        else:\n",
    "            return self._fetch_with_cmeta(chrom, start, end)"
   ]
  },
  {
   "cell_type": "code",
   "execution_count": 10,
   "id": "f1c9613e",
   "metadata": {
    "ExecuteTime": {
     "end_time": "2023-07-11T22:58:04.843106Z",
     "start_time": "2023-07-11T22:58:04.750527Z"
    }
   },
   "outputs": [],
   "source": [
    "ballc = BAllCFile(ballc_file, cmeta_file)"
   ]
  },
  {
   "cell_type": "code",
   "execution_count": 11,
   "id": "1d913af2",
   "metadata": {
    "ExecuteTime": {
     "end_time": "2023-07-11T22:58:05.531715Z",
     "start_time": "2023-07-11T22:58:05.470401Z"
    }
   },
   "outputs": [
    {
     "name": "stdout",
     "output_type": "stream",
     "text": [
      "('chr1', 17397, '-', 'CTT', 0, 1)\n",
      "('chr1', 17400, '-', 'CAG', 0, 1)\n",
      "('chr1', 17407, '-', 'CGG', 1, 1)\n",
      "('chr1', 17410, '-', 'CAG', 0, 1)\n",
      "('chr1', 17417, '-', 'CTC', 0, 1)\n",
      "('chr1', 17443, '-', 'CTG', 0, 1)\n",
      "('chr1', 17444, '-', 'CCT', 0, 1)\n",
      "('chr1', 17445, '-', 'CCC', 0, 1)\n",
      "('chr1', 17446, '-', 'CCC', 0, 1)\n",
      "('chr1', 17451, '-', 'CTG', 0, 1)\n",
      "('chr1', 17453, '-', 'CGC', 1, 1)\n",
      "('chr1', 17455, '-', 'CAC', 0, 1)\n",
      "('chr1', 17460, '-', 'CAG', 0, 1)\n",
      "('chr1', 17462, '-', 'CAC', 1, 1)\n",
      "('chr1', 17463, '-', 'CCA', 0, 1)\n",
      "('chr1', 17464, '-', 'CCC', 0, 1)\n",
      "('chr1', 17465, '-', 'CCC', 0, 1)\n",
      "('chr1', 17471, '-', 'CTG', 0, 1)\n",
      "('chr1', 17472, '-', 'CCT', 0, 1)\n",
      "('chr1', 17479, '-', 'CGG', 1, 1)\n",
      "('chr1', 17481, '-', 'CTC', 0, 1)\n",
      "('chr1', 17484, '-', 'CGG', 1, 1)\n",
      "('chr1', 17486, '-', 'CTC', 0, 1)\n",
      "('chr1', 17493, '-', 'CGG', 1, 1)\n",
      "('chr1', 17503, '-', 'CAG', 0, 1)\n",
      "('chr1', 17504, '-', 'CCA', 0, 1)\n",
      "('chr1', 17510, '-', 'CAG', 0, 1)\n",
      "('chr1', 17511, '-', 'CCA', 0, 1)\n",
      "('chr1', 62002, '+', 'CAG', 0, 2)\n",
      "('chr1', 62006, '+', 'CAT', 0, 2)\n",
      "('chr1', 62010, '+', 'CAC', 0, 2)\n",
      "('chr1', 62012, '+', 'CCA', 0, 2)\n",
      "('chr1', 62013, '+', 'CAC', 0, 1)\n",
      "('chr1', 62015, '+', 'CCA', 0, 2)\n",
      "('chr1', 62016, '+', 'CAT', 0, 2)\n",
      "('chr1', 62020, '+', 'CCC', 0, 1)\n",
      "('chr1', 62021, '+', 'CCA', 0, 2)\n",
      "('chr1', 62022, '+', 'CAG', 0, 2)\n",
      "('chr1', 62025, '+', 'CTA', 0, 2)\n",
      "('chr1', 62059, '+', 'CCC', 0, 1)\n",
      "('chr1', 62060, '+', 'CCC', 0, 2)\n",
      "('chr1', 62061, '+', 'CCA', 0, 2)\n",
      "('chr1', 62062, '+', 'CAT', 0, 2)\n",
      "('chr1', 62071, '+', 'CAG', 0, 2)\n",
      "('chr1', 62080, '+', 'CTC', 0, 2)\n",
      "('chr1', 62082, '+', 'CGA', 2, 2)\n",
      "('chr1', 62086, '+', 'CTC', 0, 2)\n",
      "('chr1', 62088, '+', 'CTT', 0, 1)\n",
      "('chr1', 62093, '+', 'CCT', 0, 2)\n",
      "('chr1', 62094, '+', 'CTC', 0, 2)\n",
      "('chr1', 62096, '+', 'CGT', 2, 2)\n",
      "('chr1', 62102, '+', 'CCA', 0, 2)\n",
      "('chr1', 62103, '+', 'CAC', 0, 2)\n",
      "('chr1', 62105, '+', 'CCC', 0, 2)\n",
      "('chr1', 62106, '+', 'CCT', 0, 2)\n",
      "('chr1', 62107, '+', 'CTC', 0, 2)\n",
      "('chr1', 62109, '+', 'CCT', 0, 1)\n",
      "('chr1', 62110, '+', 'CTC', 0, 2)\n",
      "('chr1', 62112, '+', 'CGG', 2, 2)\n",
      "('chr1', 62115, '+', 'CCT', 0, 2)\n",
      "('chr1', 62116, '+', 'CTC', 0, 2)\n",
      "('chr1', 62118, '+', 'CCC', 0, 2)\n",
      "('chr1', 62119, '+', 'CCA', 0, 2)\n",
      "('chr1', 62120, '+', 'CAA', 0, 2)\n",
      "('chr1', 64798, '-', 'CTT', 0, 1)\n",
      "('chr1', 64803, '-', 'CTA', 0, 1)\n",
      "('chr1', 64804, '-', 'CCT', 0, 1)\n",
      "('chr1', 64807, '-', 'CTT', 0, 1)\n",
      "('chr1', 64809, '-', 'CTC', 0, 1)\n",
      "('chr1', 64821, '-', 'CAG', 0, 1)\n",
      "('chr1', 64822, '-', 'CCA', 0, 1)\n",
      "('chr1', 64824, '-', 'CTC', 0, 1)\n",
      "('chr1', 64827, '-', 'CTT', 0, 1)\n",
      "('chr1', 64829, '-', 'CTC', 0, 1)\n",
      "('chr1', 64838, '-', 'CAA', 0, 1)\n",
      "('chr1', 64840, '-', 'CTC', 0, 1)\n",
      "('chr1', 64850, '-', 'CTT', 0, 1)\n",
      "('chr1', 64861, '-', 'CAT', 0, 1)\n",
      "('chr1', 64863, '-', 'CAC', 0, 1)\n",
      "('chr1', 64867, '-', 'CAG', 0, 1)\n",
      "('chr1', 64869, '-', 'CAC', 0, 1)\n",
      "('chr1', 64880, '-', 'CTT', 0, 1)\n",
      "('chr1', 64881, '-', 'CCT', 0, 1)\n",
      "('chr1', 64883, '-', 'CAC', 0, 1)\n",
      "('chr1', 64888, '-', 'CTA', 0, 1)\n",
      "('chr1', 64889, '-', 'CCT', 0, 1)\n",
      "('chr1', 64895, '-', 'CTT', 0, 1)\n",
      "('chr1', 64898, '-', 'CTT', 0, 1)\n",
      "('chr1', 64899, '-', 'CCT', 0, 1)\n",
      "('chr1', 64901, '-', 'CGC', 1, 1)\n",
      "('chr1', 77389, '+', 'CAT', 1, 1)\n",
      "('chr1', 77400, '+', 'CAT', 0, 1)\n",
      "('chr1', 77404, '+', 'CAT', 0, 1)\n",
      "('chr1', 77441, '+', 'CAT', 0, 1)\n",
      "('chr1', 77445, '+', 'CTT', 0, 1)\n",
      "('chr1', 77455, '+', 'CAA', 0, 1)\n",
      "('chr1', 77461, '+', 'CGT', 1, 1)\n",
      "('chr1', 77468, '+', 'CAT', 1, 1)\n",
      "('chr1', 77481, '+', 'CTT', 0, 1)\n",
      "('chr1', 77488, '+', 'CAG', 0, 1)\n",
      "('chr1', 77501, '+', 'CAG', 0, 1)\n"
     ]
    }
   ],
   "source": [
    "for x in ballc.fetch(*region):\n",
    "    print(x)"
   ]
  },
  {
   "cell_type": "code",
   "execution_count": null,
   "id": "b73d0f46",
   "metadata": {},
   "outputs": [],
   "source": []
  }
 ],
 "metadata": {
  "kernelspec": {
   "display_name": "Python [conda env:sapiens]",
   "language": "python",
   "name": "conda-env-sapiens-py"
  },
  "language_info": {
   "codemirror_mode": {
    "name": "ipython",
    "version": 3
   },
   "file_extension": ".py",
   "mimetype": "text/x-python",
   "name": "python",
   "nbconvert_exporter": "python",
   "pygments_lexer": "ipython3",
   "version": "3.8.12"
  },
  "toc": {
   "base_numbering": 1,
   "nav_menu": {},
   "number_sections": true,
   "sideBar": true,
   "skip_h1_title": false,
   "title_cell": "Table of Contents",
   "title_sidebar": "Contents",
   "toc_cell": false,
   "toc_position": {},
   "toc_section_display": true,
   "toc_window_display": false
  }
 },
 "nbformat": 4,
 "nbformat_minor": 5
}
