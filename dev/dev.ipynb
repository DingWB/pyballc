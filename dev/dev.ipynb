{
 "cells": [
  {
   "cell_type": "code",
   "execution_count": 1,
   "id": "71869ffb",
   "metadata": {
    "ExecuteTime": {
     "end_time": "2023-07-11T23:13:14.098282Z",
     "start_time": "2023-07-11T23:13:14.095946Z"
    }
   },
   "outputs": [],
   "source": [
    "import sys\n",
    "sys.path.append('/gale/netapp/home/wtian/local/pyballc/pyballc/')\n",
    "import glob\n"
   ]
  },
  {
   "cell_type": "code",
   "execution_count": 2,
   "id": "ebeb2533",
   "metadata": {
    "ExecuteTime": {
     "end_time": "2023-07-11T23:13:14.283546Z",
     "start_time": "2023-07-11T23:13:14.265934Z"
    }
   },
   "outputs": [
    {
     "ename": "ModuleNotFoundError",
     "evalue": "No module named 'pyballcools'",
     "output_type": "error",
     "traceback": [
      "\u001b[0;31m---------------------------------------------------------------------------\u001b[0m",
      "\u001b[0;31mModuleNotFoundError\u001b[0m                       Traceback (most recent call last)",
      "Cell \u001b[0;32mIn[2], line 1\u001b[0m\n\u001b[0;32m----> 1\u001b[0m \u001b[38;5;28;01mimport\u001b[39;00m \u001b[38;5;21;01mpyballcools\u001b[39;00m\n\u001b[1;32m      2\u001b[0m \u001b[38;5;28;01mimport\u001b[39;00m \u001b[38;5;21;01mpysam\u001b[39;00m\n",
      "\u001b[0;31mModuleNotFoundError\u001b[0m: No module named 'pyballcools'"
     ]
    }
   ],
   "source": [
    "import pyballcools\n",
    "import pysam"
   ]
  },
  {
   "cell_type": "code",
   "execution_count": null,
   "id": "7ebc2831",
   "metadata": {
    "ExecuteTime": {
     "end_time": "2023-07-11T23:13:44.954391Z",
     "start_time": "2023-07-11T23:13:44.952849Z"
    }
   },
   "outputs": [],
   "source": [
    "ballc_file = '/gale/netapp/home/wtian/local/ballcools/test/out/HBA_200616_H1930001_CX50_M1C_1_P5-3-E10-A17.ballc'\n",
    "cmeta_file = '/gale/netapp/home/wtian/bican/projects/test/h1930001.cmeta.gz'"
   ]
  },
  {
   "cell_type": "code",
   "execution_count": null,
   "id": "8174accd",
   "metadata": {
    "ExecuteTime": {
     "end_time": "2023-07-11T23:13:45.300893Z",
     "start_time": "2023-07-11T23:13:45.251730Z"
    }
   },
   "outputs": [],
   "source": [
    "next(pysam.TabixFile(cmeta_file).fetch(*region))"
   ]
  },
  {
   "cell_type": "code",
   "execution_count": null,
   "id": "d4eb24ab",
   "metadata": {
    "ExecuteTime": {
     "end_time": "2023-07-11T23:13:32.005491Z",
     "start_time": "2023-07-11T23:13:32.003695Z"
    }
   },
   "outputs": [],
   "source": [
    "region = 'chr1', 0,20000\n",
    "# region = 'chr1', 62000, 70000\n",
    "# region = 'chr1', 0,10000\n",
    "region = 'chr1', 0, 80000\n"
   ]
  },
  {
   "cell_type": "code",
   "execution_count": null,
   "id": "b96ee837",
   "metadata": {
    "ExecuteTime": {
     "end_time": "2023-07-11T22:58:04.013068Z",
     "start_time": "2023-07-11T22:58:04.008090Z"
    }
   },
   "outputs": [],
   "source": [
    "class BAllCFile:\n",
    "    def __init__(self, ballc_file, cmeta_file=None):\n",
    "        self.bci = pyballcools.BAllCIndex(ballc_file)\n",
    "        self.tbi = pysam.TabixFile(cmeta_file) if cmeta_file is not None else None\n",
    "    def _fetch_with_cmeta(self, chrom, start, end):\n",
    "        mciter = self.bci.QueryMcRecords_Iter(chrom, start, end)\n",
    "        if mciter.HasNext():\n",
    "            mciter.Next()\n",
    "        while mciter.HasNext():\n",
    "            rec = mciter.Next()\n",
    "            try:\n",
    "                cline = next(self.tbi.fetch(rec.chrom,rec.pos-1,rec.pos,))\n",
    "            except:\n",
    "                ##TODO\n",
    "                pass\n",
    "\n",
    "            *_, strand, context = cline.split()\n",
    "\n",
    "            yield(rec.chrom,rec.pos,strand, context, rec.mc,rec.cov, )\n",
    "    def _fetch(self, chrom, start, end):\n",
    "        mciter = self.bci.QueryMcRecords_Iter(chrom, start, end)\n",
    "        if mciter.HasNext():\n",
    "            mciter.Next()\n",
    "        while mciter.HasNext():\n",
    "            rec = mciter.Next()\n",
    "            yield(rec.chrom, rec.pos, rec.mc, rec.cov, )\n",
    "        \n",
    "    def fetch(self, chrom, start, end):\n",
    "        if self.tbi is None:\n",
    "            return self._fetch(chrom, start, end)\n",
    "        else:\n",
    "            return self._fetch_with_cmeta(chrom, start, end)"
   ]
  },
  {
   "cell_type": "code",
   "execution_count": null,
   "id": "f1c9613e",
   "metadata": {
    "ExecuteTime": {
     "end_time": "2023-07-11T22:58:04.843106Z",
     "start_time": "2023-07-11T22:58:04.750527Z"
    }
   },
   "outputs": [],
   "source": [
    "ballc = BAllCFile(ballc_file, cmeta_file)"
   ]
  },
  {
   "cell_type": "code",
   "execution_count": null,
   "id": "1d913af2",
   "metadata": {
    "ExecuteTime": {
     "end_time": "2023-07-11T22:58:05.531715Z",
     "start_time": "2023-07-11T22:58:05.470401Z"
    }
   },
   "outputs": [],
   "source": [
    "for x in ballc.fetch(*region):\n",
    "    print(x)"
   ]
  },
  {
   "cell_type": "code",
   "execution_count": null,
   "id": "b73d0f46",
   "metadata": {},
   "outputs": [],
   "source": []
  }
 ],
 "metadata": {
  "kernelspec": {
   "display_name": "Python 3 (ipykernel)",
   "language": "python",
   "name": "python3"
  },
  "language_info": {
   "codemirror_mode": {
    "name": "ipython",
    "version": 3
   },
   "file_extension": ".py",
   "mimetype": "text/x-python",
   "name": "python",
   "nbconvert_exporter": "python",
   "pygments_lexer": "ipython3",
   "version": "3.8.17"
  },
  "toc": {
   "base_numbering": 1,
   "nav_menu": {},
   "number_sections": true,
   "sideBar": true,
   "skip_h1_title": false,
   "title_cell": "Table of Contents",
   "title_sidebar": "Contents",
   "toc_cell": false,
   "toc_position": {},
   "toc_section_display": true,
   "toc_window_display": false
  }
 },
 "nbformat": 4,
 "nbformat_minor": 5
}
