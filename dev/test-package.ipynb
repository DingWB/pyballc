{
 "cells": [
  {
   "cell_type": "code",
   "execution_count": 1,
   "id": "40cb368b",
   "metadata": {
    "ExecuteTime": {
     "end_time": "2023-07-12T17:57:08.683588Z",
     "start_time": "2023-07-12T17:57:08.628379Z"
    }
   },
   "outputs": [
    {
     "ename": "ImportError",
     "evalue": "cannot import name 'BAllCFile' from partially initialized module 'pyballc' (most likely due to a circular import) (/gale/netapp/home/wtian/local/pyballc/pyballc/__init__.py)",
     "output_type": "error",
     "traceback": [
      "\u001b[0;31m---------------------------------------------------------------------------\u001b[0m",
      "\u001b[0;31mImportError\u001b[0m                               Traceback (most recent call last)",
      "\u001b[0;32m~/sapiens/systmp/ipykernel_58980/2951625977.py\u001b[0m in \u001b[0;36m<module>\u001b[0;34m\u001b[0m\n\u001b[0;32m----> 1\u001b[0;31m \u001b[0;32mfrom\u001b[0m \u001b[0mpyballc\u001b[0m \u001b[0;32mimport\u001b[0m \u001b[0mBAllCFile\u001b[0m\u001b[0;34m\u001b[0m\u001b[0;34m\u001b[0m\u001b[0m\n\u001b[0m",
      "\u001b[0;32m~/local/pyballc/pyballc/__init__.py\u001b[0m in \u001b[0;36m<module>\u001b[0;34m\u001b[0m\n\u001b[0;32m----> 1\u001b[0;31m \u001b[0;32mfrom\u001b[0m \u001b[0mpyballc\u001b[0m \u001b[0;32mimport\u001b[0m \u001b[0mBAllCFile\u001b[0m\u001b[0;34m\u001b[0m\u001b[0;34m\u001b[0m\u001b[0m\n\u001b[0m",
      "\u001b[0;31mImportError\u001b[0m: cannot import name 'BAllCFile' from partially initialized module 'pyballc' (most likely due to a circular import) (/gale/netapp/home/wtian/local/pyballc/pyballc/__init__.py)"
     ]
    }
   ],
   "source": [
    "from pyballc import BAllCFile"
   ]
  },
  {
   "cell_type": "code",
   "execution_count": 2,
   "id": "0aa1cd83",
   "metadata": {
    "ExecuteTime": {
     "end_time": "2023-07-11T23:17:34.084050Z",
     "start_time": "2023-07-11T23:17:34.082439Z"
    }
   },
   "outputs": [],
   "source": [
    "ballc_file = '/gale/netapp/home/wtian/local/ballcools/test/out/HBA_200616_H1930001_CX50_M1C_1_P5-3-E10-A17.ballc'\n",
    "cmeta_file = '/gale/netapp/home/wtian/bican/projects/test/h1930001.cmeta.gz'"
   ]
  },
  {
   "cell_type": "code",
   "execution_count": 6,
   "id": "b5ee0164",
   "metadata": {
    "ExecuteTime": {
     "end_time": "2023-07-11T23:17:47.201160Z",
     "start_time": "2023-07-11T23:17:47.199540Z"
    }
   },
   "outputs": [],
   "source": [
    "region = 'chr1', 0, 17445"
   ]
  },
  {
   "cell_type": "code",
   "execution_count": 7,
   "id": "c3aa4399",
   "metadata": {
    "ExecuteTime": {
     "end_time": "2023-07-11T23:17:47.647868Z",
     "start_time": "2023-07-11T23:17:47.558997Z"
    }
   },
   "outputs": [],
   "source": [
    "ballc = pyballc.BAllCFile(ballc_file, cmeta_file)"
   ]
  },
  {
   "cell_type": "code",
   "execution_count": 8,
   "id": "867503d8",
   "metadata": {
    "ExecuteTime": {
     "end_time": "2023-07-11T23:17:47.989732Z",
     "start_time": "2023-07-11T23:17:47.983277Z"
    }
   },
   "outputs": [
    {
     "name": "stdout",
     "output_type": "stream",
     "text": [
      "chr1\t17397\t-\tCTT\t0\t1\n",
      "chr1\t17400\t-\tCAG\t0\t1\n",
      "chr1\t17407\t-\tCGG\t1\t1\n",
      "chr1\t17410\t-\tCAG\t0\t1\n",
      "chr1\t17417\t-\tCTC\t0\t1\n",
      "chr1\t17443\t-\tCTG\t0\t1\n",
      "chr1\t17444\t-\tCCT\t0\t1\n",
      "chr1\t17445\t-\tCCC\t0\t1\n"
     ]
    }
   ],
   "source": [
    "for x in ballc.fetch_line(*region):\n",
    "    print(x)"
   ]
  },
  {
   "cell_type": "code",
   "execution_count": 9,
   "id": "30f9de77",
   "metadata": {
    "ExecuteTime": {
     "end_time": "2023-07-11T23:17:50.222480Z",
     "start_time": "2023-07-11T23:17:50.216870Z"
    }
   },
   "outputs": [
    {
     "name": "stdout",
     "output_type": "stream",
     "text": [
      "('chr1', 17397, '-', 'CTT', 0, 1)\n",
      "('chr1', 17400, '-', 'CAG', 0, 1)\n",
      "('chr1', 17407, '-', 'CGG', 1, 1)\n",
      "('chr1', 17410, '-', 'CAG', 0, 1)\n",
      "('chr1', 17417, '-', 'CTC', 0, 1)\n",
      "('chr1', 17443, '-', 'CTG', 0, 1)\n",
      "('chr1', 17444, '-', 'CCT', 0, 1)\n",
      "('chr1', 17445, '-', 'CCC', 0, 1)\n"
     ]
    }
   ],
   "source": [
    "for x in ballc.fetch(*region):\n",
    "    print(x)"
   ]
  },
  {
   "cell_type": "code",
   "execution_count": null,
   "id": "565b0cd7",
   "metadata": {},
   "outputs": [],
   "source": []
  }
 ],
 "metadata": {
  "kernelspec": {
   "display_name": "Python [conda env:sapiens]",
   "language": "python",
   "name": "conda-env-sapiens-py"
  },
  "language_info": {
   "codemirror_mode": {
    "name": "ipython",
    "version": 3
   },
   "file_extension": ".py",
   "mimetype": "text/x-python",
   "name": "python",
   "nbconvert_exporter": "python",
   "pygments_lexer": "ipython3",
   "version": "3.8.12"
  },
  "toc": {
   "base_numbering": 1,
   "nav_menu": {},
   "number_sections": true,
   "sideBar": true,
   "skip_h1_title": false,
   "title_cell": "Table of Contents",
   "title_sidebar": "Contents",
   "toc_cell": false,
   "toc_position": {},
   "toc_section_display": true,
   "toc_window_display": false
  }
 },
 "nbformat": 4,
 "nbformat_minor": 5
}
