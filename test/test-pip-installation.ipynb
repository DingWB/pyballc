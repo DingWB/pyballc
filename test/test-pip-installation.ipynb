{
 "cells": [
  {
   "cell_type": "code",
   "execution_count": 1,
   "id": "4942fbfb",
   "metadata": {
    "ExecuteTime": {
     "end_time": "2023-07-12T19:28:26.130029Z",
     "start_time": "2023-07-12T19:28:26.114301Z"
    }
   },
   "outputs": [],
   "source": [
    "import pyballc"
   ]
  },
  {
   "cell_type": "code",
   "execution_count": 2,
   "id": "f58673f1",
   "metadata": {
    "ExecuteTime": {
     "end_time": "2023-07-12T19:28:26.132913Z",
     "start_time": "2023-07-12T19:28:26.131156Z"
    }
   },
   "outputs": [],
   "source": [
    "ballc_file = '/gale/netapp/home/wtian/local/ballcools/test/out/HBA_200616_H1930001_CX50_M1C_1_P5-3-E10-A17.ballc'\n",
    "cmeta_file = '/gale/netapp/home/wtian/bican/projects/test/h1930001.cmeta.gz'"
   ]
  },
  {
   "cell_type": "code",
   "execution_count": 3,
   "id": "568aad64",
   "metadata": {
    "ExecuteTime": {
     "end_time": "2023-07-12T19:28:26.137736Z",
     "start_time": "2023-07-12T19:28:26.133830Z"
    }
   },
   "outputs": [],
   "source": [
    "region = 'chr1', 0, 17445"
   ]
  },
  {
   "cell_type": "code",
   "execution_count": 4,
   "id": "af5c8cb1",
   "metadata": {
    "ExecuteTime": {
     "end_time": "2023-07-12T19:28:26.213917Z",
     "start_time": "2023-07-12T19:28:26.138976Z"
    }
   },
   "outputs": [],
   "source": [
    "ballc_meta = pyballc.BAllCFile(ballc_file, cmeta_file)"
   ]
  },
  {
   "cell_type": "code",
   "execution_count": 5,
   "id": "83108d07",
   "metadata": {
    "ExecuteTime": {
     "end_time": "2023-07-12T19:28:26.220946Z",
     "start_time": "2023-07-12T19:28:26.215020Z"
    }
   },
   "outputs": [
    {
     "name": "stdout",
     "output_type": "stream",
     "text": [
      "chr1\t17397\t-\tCTT\t0\t1\n",
      "chr1\t17400\t-\tCAG\t0\t1\n",
      "chr1\t17407\t-\tCGG\t1\t1\n",
      "chr1\t17410\t-\tCAG\t0\t1\n",
      "chr1\t17417\t-\tCTC\t0\t1\n",
      "chr1\t17443\t-\tCTG\t0\t1\n",
      "chr1\t17444\t-\tCCT\t0\t1\n",
      "chr1\t17445\t-\tCCC\t0\t1\n"
     ]
    }
   ],
   "source": [
    "for x in ballc_meta.fetch_line(*region):\n",
    "    print(x)"
   ]
  },
  {
   "cell_type": "code",
   "execution_count": 6,
   "id": "ab5a8d74",
   "metadata": {
    "ExecuteTime": {
     "end_time": "2023-07-12T19:28:26.227423Z",
     "start_time": "2023-07-12T19:28:26.222111Z"
    }
   },
   "outputs": [
    {
     "name": "stdout",
     "output_type": "stream",
     "text": [
      "('chr1', 17397, '-', 'CTT', 0, 1)\n",
      "('chr1', 17400, '-', 'CAG', 0, 1)\n",
      "('chr1', 17407, '-', 'CGG', 1, 1)\n",
      "('chr1', 17410, '-', 'CAG', 0, 1)\n",
      "('chr1', 17417, '-', 'CTC', 0, 1)\n",
      "('chr1', 17443, '-', 'CTG', 0, 1)\n",
      "('chr1', 17444, '-', 'CCT', 0, 1)\n",
      "('chr1', 17445, '-', 'CCC', 0, 1)\n"
     ]
    }
   ],
   "source": [
    "for x in ballc_meta.fetch(*region):\n",
    "    print(x)"
   ]
  },
  {
   "cell_type": "code",
   "execution_count": 7,
   "id": "d9ff9e2b",
   "metadata": {
    "ExecuteTime": {
     "end_time": "2023-07-12T19:28:26.263437Z",
     "start_time": "2023-07-12T19:28:26.228367Z"
    }
   },
   "outputs": [],
   "source": [
    "ballc_nometa = pyballc.BAllCFile(ballc_file)"
   ]
  },
  {
   "cell_type": "code",
   "execution_count": 8,
   "id": "f2a09541",
   "metadata": {
    "ExecuteTime": {
     "end_time": "2023-07-12T19:28:26.270401Z",
     "start_time": "2023-07-12T19:28:26.264309Z"
    }
   },
   "outputs": [
    {
     "name": "stdout",
     "output_type": "stream",
     "text": [
      "chr1\t17397\t0\t1\n",
      "chr1\t17400\t0\t1\n",
      "chr1\t17407\t1\t1\n",
      "chr1\t17410\t0\t1\n",
      "chr1\t17417\t0\t1\n",
      "chr1\t17443\t0\t1\n",
      "chr1\t17444\t0\t1\n",
      "chr1\t17445\t0\t1\n"
     ]
    }
   ],
   "source": [
    "for x in ballc_nometa.fetch_line(*region):\n",
    "    print(x)"
   ]
  },
  {
   "cell_type": "code",
   "execution_count": 9,
   "id": "a4da8328",
   "metadata": {
    "ExecuteTime": {
     "end_time": "2023-07-12T19:28:26.275705Z",
     "start_time": "2023-07-12T19:28:26.271306Z"
    }
   },
   "outputs": [
    {
     "name": "stdout",
     "output_type": "stream",
     "text": [
      "('chr1', 17397, 0, 1)\n",
      "('chr1', 17400, 0, 1)\n",
      "('chr1', 17407, 1, 1)\n",
      "('chr1', 17410, 0, 1)\n",
      "('chr1', 17417, 0, 1)\n",
      "('chr1', 17443, 0, 1)\n",
      "('chr1', 17444, 0, 1)\n",
      "('chr1', 17445, 0, 1)\n"
     ]
    }
   ],
   "source": [
    "for x in ballc_nometa.fetch(*region):\n",
    "    print(x)"
   ]
  },
  {
   "cell_type": "code",
   "execution_count": null,
   "id": "14d8b2c1",
   "metadata": {},
   "outputs": [],
   "source": []
  },
  {
   "cell_type": "code",
   "execution_count": null,
   "id": "00f69430",
   "metadata": {},
   "outputs": [],
   "source": []
  },
  {
   "cell_type": "markdown",
   "id": "5274e4e6",
   "metadata": {},
   "source": [
    "you can also use ```with```"
   ]
  },
  {
   "cell_type": "code",
   "execution_count": 10,
   "id": "bbd3ecec",
   "metadata": {
    "ExecuteTime": {
     "end_time": "2023-07-12T19:28:28.580858Z",
     "start_time": "2023-07-12T19:28:28.506511Z"
    }
   },
   "outputs": [
    {
     "name": "stdout",
     "output_type": "stream",
     "text": [
      "chr1\t17397\t-\tCTT\t0\t1\n",
      "chr1\t17400\t-\tCAG\t0\t1\n",
      "chr1\t17407\t-\tCGG\t1\t1\n",
      "chr1\t17410\t-\tCAG\t0\t1\n",
      "chr1\t17417\t-\tCTC\t0\t1\n",
      "chr1\t17443\t-\tCTG\t0\t1\n",
      "chr1\t17444\t-\tCCT\t0\t1\n",
      "chr1\t17445\t-\tCCC\t0\t1\n"
     ]
    }
   ],
   "source": [
    "with pyballc.BAllCFile(ballc_file, cmeta_file) as ballc:\n",
    "    for x in ballc.fetch_line(*region):\n",
    "        print(x)"
   ]
  },
  {
   "cell_type": "code",
   "execution_count": null,
   "id": "e13c800e",
   "metadata": {},
   "outputs": [],
   "source": []
  }
 ],
 "metadata": {
  "kernelspec": {
   "display_name": "Python [conda env:sapiens]",
   "language": "python",
   "name": "conda-env-sapiens-py"
  },
  "language_info": {
   "codemirror_mode": {
    "name": "ipython",
    "version": 3
   },
   "file_extension": ".py",
   "mimetype": "text/x-python",
   "name": "python",
   "nbconvert_exporter": "python",
   "pygments_lexer": "ipython3",
   "version": "3.8.12"
  },
  "toc": {
   "base_numbering": 1,
   "nav_menu": {},
   "number_sections": true,
   "sideBar": true,
   "skip_h1_title": false,
   "title_cell": "Table of Contents",
   "title_sidebar": "Contents",
   "toc_cell": false,
   "toc_position": {},
   "toc_section_display": true,
   "toc_window_display": false
  }
 },
 "nbformat": 4,
 "nbformat_minor": 5
}
